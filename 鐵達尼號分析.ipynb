{
  "nbformat": 4,
  "nbformat_minor": 0,
  "metadata": {
    "colab": {
      "name": "鐵達尼號分析.ipynb",
      "provenance": [],
      "collapsed_sections": [],
      "include_colab_link": true
    },
    "kernelspec": {
      "name": "python3",
      "display_name": "Python 3"
    }
  },
  "cells": [
    {
      "cell_type": "markdown",
      "metadata": {
        "id": "view-in-github",
        "colab_type": "text"
      },
      "source": [
        "<a href=\"https://colab.research.google.com/github/les8182377/bigbluebutton/blob/master/%E9%90%B5%E9%81%94%E5%B0%BC%E8%99%9F%E5%88%86%E6%9E%90.ipynb\" target=\"_parent\"><img src=\"https://colab.research.google.com/assets/colab-badge.svg\" alt=\"Open In Colab\"/></a>"
      ]
    },
    {
      "cell_type": "code",
      "metadata": {
        "id": "eElmcqdvpkvl",
        "colab_type": "code",
        "colab": {
          "base_uri": "https://localhost:8080/",
          "height": 1000
        },
        "outputId": "51d81a78-ca34-49b7-90f2-f4666e112f1b"
      },
      "source": [
        "import warnings\n",
        "warnings.simplefilter(action='ignore', category=FutureWarning)\n",
        "import numpy as np\n",
        "import pandas as pd\n",
        "from sklearn import preprocessing\n",
        "np.random.seed(10)\n",
        "\n",
        "def PreprocessData(raw_df):\n",
        "    df = raw_df.drop(['name'], axis=1)\n",
        "    age_mean = df['age'].mean()\n",
        "    df['age'] = df['age'].fillna(age_mean)\n",
        "    fare_mean = df['fare'].mean()\n",
        "    df['fare'] = df['fare'].fillna(fare_mean)\n",
        "    df['sex'] = df['sex'].map({'female':0, 'male':1}).astype(int)\n",
        "    X_onehot_df = pd.get_dummies(data=df, columns=['embarked'])\n",
        "    \n",
        "    ndarray = X_onehot_df.values\n",
        "    Features = ndarray[:,1:]\n",
        "    Label = ndarray[:,0]\n",
        "    \n",
        "    minmax_scale = preprocessing.MinMaxScaler(feature_range=(0,1))\n",
        "    scaledFeatures = minmax_scale.fit_transform(Features)\n",
        "    return scaledFeatures, Label\n",
        "\n",
        "all_df = pd.read_excel('drive/My Drive/Colab Notebooks/data/titanic3.xls')\n",
        "\n",
        "cols = ['survived', 'name', 'pclass', 'sex', 'age', 'sibsp', 'parch', 'fare', 'embarked']\n",
        "all_df = all_df[cols]\n",
        "\n",
        "msk = np.random.rand(len(all_df)) < 0.8\n",
        "train_df = all_df[msk]\n",
        "test_df = all_df[~msk]\n",
        "\n",
        "print('total:', len(all_df),\n",
        "      'train:', len(train_df),\n",
        "      'test:', len(test_df))\n",
        "\n",
        "train_Features, train_Label = PreprocessData(train_df)\n",
        "test_Features, test_Label = PreprocessData(test_df)\n",
        "\n",
        "from keras.models import Sequential\n",
        "from keras.layers import Dense, Dropout\n",
        "\n",
        "model = Sequential()\n",
        "\n",
        "model.add(Dense(units=40, input_dim=9,\n",
        "               kernel_initializer='uniform',\n",
        "               activation='relu'))\n",
        "\n",
        "model.add(Dense(units=30,\n",
        "               kernel_initializer='uniform',\n",
        "               activation='relu'))\n",
        "\n",
        "model.add(Dense(units=1,\n",
        "               kernel_initializer='uniform',\n",
        "               activation='sigmoid'))\n",
        "\n",
        "model.compile(loss='binary_crossentropy',\n",
        "             optimizer='adam', metrics=['accuracy'])\n",
        "\n",
        "print(train_Features.dtype)\n",
        "print((train_Label.dtype))\n",
        "print(train_Features.shape)\n",
        "print(train_Label.shape)\n",
        "\n",
        "train_history = model.fit(x=train_Features,\n",
        "                          y=train_Label,\n",
        "                          validation_split=0.1,\n",
        "                          epochs=30,\n",
        "                          batch_size=30,verbose=2)\n"
      ],
      "execution_count": 5,
      "outputs": [
        {
          "output_type": "stream",
          "text": [
            "total: 1309 train: 1034 test: 275\n",
            "float64\n",
            "float64\n",
            "(1034, 9)\n",
            "(1034,)\n",
            "Epoch 1/30\n",
            "31/31 - 0s - loss: 0.6881 - accuracy: 0.5925 - val_loss: 0.6646 - val_accuracy: 0.7885\n",
            "Epoch 2/30\n",
            "31/31 - 0s - loss: 0.6586 - accuracy: 0.6237 - val_loss: 0.5676 - val_accuracy: 0.7885\n",
            "Epoch 3/30\n",
            "31/31 - 0s - loss: 0.5939 - accuracy: 0.6742 - val_loss: 0.4796 - val_accuracy: 0.8077\n",
            "Epoch 4/30\n",
            "31/31 - 0s - loss: 0.5370 - accuracy: 0.7624 - val_loss: 0.4747 - val_accuracy: 0.7885\n",
            "Epoch 5/30\n",
            "31/31 - 0s - loss: 0.5057 - accuracy: 0.7667 - val_loss: 0.4513 - val_accuracy: 0.7885\n",
            "Epoch 6/30\n",
            "31/31 - 0s - loss: 0.4909 - accuracy: 0.7645 - val_loss: 0.4444 - val_accuracy: 0.7885\n",
            "Epoch 7/30\n",
            "31/31 - 0s - loss: 0.4835 - accuracy: 0.7667 - val_loss: 0.4430 - val_accuracy: 0.7885\n",
            "Epoch 8/30\n",
            "31/31 - 0s - loss: 0.4790 - accuracy: 0.7624 - val_loss: 0.4342 - val_accuracy: 0.7788\n",
            "Epoch 9/30\n",
            "31/31 - 0s - loss: 0.4767 - accuracy: 0.7688 - val_loss: 0.4315 - val_accuracy: 0.7885\n",
            "Epoch 10/30\n",
            "31/31 - 0s - loss: 0.4742 - accuracy: 0.7581 - val_loss: 0.4252 - val_accuracy: 0.7981\n",
            "Epoch 11/30\n",
            "31/31 - 0s - loss: 0.4707 - accuracy: 0.7656 - val_loss: 0.4273 - val_accuracy: 0.7981\n",
            "Epoch 12/30\n",
            "31/31 - 0s - loss: 0.4668 - accuracy: 0.7720 - val_loss: 0.4255 - val_accuracy: 0.7981\n",
            "Epoch 13/30\n",
            "31/31 - 0s - loss: 0.4655 - accuracy: 0.7667 - val_loss: 0.4237 - val_accuracy: 0.8269\n",
            "Epoch 14/30\n",
            "31/31 - 0s - loss: 0.4632 - accuracy: 0.7753 - val_loss: 0.4234 - val_accuracy: 0.8365\n",
            "Epoch 15/30\n",
            "31/31 - 0s - loss: 0.4604 - accuracy: 0.7763 - val_loss: 0.4196 - val_accuracy: 0.8077\n",
            "Epoch 16/30\n",
            "31/31 - 0s - loss: 0.4608 - accuracy: 0.7796 - val_loss: 0.4272 - val_accuracy: 0.7885\n",
            "Epoch 17/30\n",
            "31/31 - 0s - loss: 0.4586 - accuracy: 0.7763 - val_loss: 0.4216 - val_accuracy: 0.8269\n",
            "Epoch 18/30\n",
            "31/31 - 0s - loss: 0.4591 - accuracy: 0.7753 - val_loss: 0.4193 - val_accuracy: 0.7885\n",
            "Epoch 19/30\n",
            "31/31 - 0s - loss: 0.4584 - accuracy: 0.7828 - val_loss: 0.4184 - val_accuracy: 0.8269\n",
            "Epoch 20/30\n",
            "31/31 - 0s - loss: 0.4545 - accuracy: 0.7903 - val_loss: 0.4175 - val_accuracy: 0.8173\n",
            "Epoch 21/30\n",
            "31/31 - 0s - loss: 0.4536 - accuracy: 0.7860 - val_loss: 0.4179 - val_accuracy: 0.7981\n",
            "Epoch 22/30\n",
            "31/31 - 0s - loss: 0.4569 - accuracy: 0.7903 - val_loss: 0.4186 - val_accuracy: 0.8269\n",
            "Epoch 23/30\n",
            "31/31 - 0s - loss: 0.4543 - accuracy: 0.7892 - val_loss: 0.4228 - val_accuracy: 0.8269\n",
            "Epoch 24/30\n",
            "31/31 - 0s - loss: 0.4509 - accuracy: 0.7925 - val_loss: 0.4165 - val_accuracy: 0.8173\n",
            "Epoch 25/30\n",
            "31/31 - 0s - loss: 0.4507 - accuracy: 0.7968 - val_loss: 0.4212 - val_accuracy: 0.8173\n",
            "Epoch 26/30\n",
            "31/31 - 0s - loss: 0.4503 - accuracy: 0.7946 - val_loss: 0.4175 - val_accuracy: 0.8077\n",
            "Epoch 27/30\n",
            "31/31 - 0s - loss: 0.4517 - accuracy: 0.7914 - val_loss: 0.4167 - val_accuracy: 0.8077\n",
            "Epoch 28/30\n",
            "31/31 - 0s - loss: 0.4486 - accuracy: 0.7957 - val_loss: 0.4186 - val_accuracy: 0.8173\n",
            "Epoch 29/30\n",
            "31/31 - 0s - loss: 0.4500 - accuracy: 0.7903 - val_loss: 0.4187 - val_accuracy: 0.8077\n",
            "Epoch 30/30\n",
            "31/31 - 0s - loss: 0.4485 - accuracy: 0.7925 - val_loss: 0.4180 - val_accuracy: 0.8173\n"
          ],
          "name": "stdout"
        }
      ]
    },
    {
      "cell_type": "code",
      "metadata": {
        "id": "tj70Y3FrR5ho",
        "colab_type": "code",
        "colab": {
          "base_uri": "https://localhost:8080/",
          "height": 367
        },
        "outputId": "bedd905b-9e3e-4b2a-a150-5b65fda13715"
      },
      "source": [
        "from def_function import show_train_history\n",
        "show_train_history(train_history, 'accuracy', 'val_accuracy')\n",
        "\n",
        "scores = model.evaluate(x=test_Features,\n",
        "                        y=test_Label)\n",
        "\n",
        "scores[1]\n",
        "\n",
        "Jack = pd.Series([0 ,'Jack', 3, 'male', 23, 1, 0, 5.0000, 'S'])\n",
        "Rose = pd.Series([1, 'Rose', 1, 'female', 20, 1, 0, 100.0000, 'S'])\n",
        "\n",
        "JR_df = pd.DataFrame([list(Jack), list(Rose)], columns=['survived', 'name', 'pclass', 'sex', \n",
        "                                                        'age', 'sibsp', 'parch', 'fare', 'embarked'])\n"
      ],
      "execution_count": 6,
      "outputs": [
        {
          "output_type": "error",
          "ename": "ModuleNotFoundError",
          "evalue": "ignored",
          "traceback": [
            "\u001b[0;31m---------------------------------------------------------------------------\u001b[0m",
            "\u001b[0;31mModuleNotFoundError\u001b[0m                       Traceback (most recent call last)",
            "\u001b[0;32m<ipython-input-6-03736c071923>\u001b[0m in \u001b[0;36m<module>\u001b[0;34m()\u001b[0m\n\u001b[0;32m----> 1\u001b[0;31m \u001b[0;32mfrom\u001b[0m \u001b[0mdef_function\u001b[0m \u001b[0;32mimport\u001b[0m \u001b[0mshow_train_history\u001b[0m\u001b[0;34m\u001b[0m\u001b[0;34m\u001b[0m\u001b[0m\n\u001b[0m\u001b[1;32m      2\u001b[0m \u001b[0mshow_train_history\u001b[0m\u001b[0;34m(\u001b[0m\u001b[0mtrain_history\u001b[0m\u001b[0;34m,\u001b[0m \u001b[0;34m'accuracy'\u001b[0m\u001b[0;34m,\u001b[0m \u001b[0;34m'val_accuracy'\u001b[0m\u001b[0;34m)\u001b[0m\u001b[0;34m\u001b[0m\u001b[0;34m\u001b[0m\u001b[0m\n\u001b[1;32m      3\u001b[0m \u001b[0;34m\u001b[0m\u001b[0m\n\u001b[1;32m      4\u001b[0m scores = model.evaluate(x=test_Features,\n\u001b[1;32m      5\u001b[0m                         y=test_Label)\n",
            "\u001b[0;31mModuleNotFoundError\u001b[0m: No module named 'def_function'",
            "",
            "\u001b[0;31m---------------------------------------------------------------------------\u001b[0;32m\nNOTE: If your import is failing due to a missing package, you can\nmanually install dependencies using either !pip or !apt.\n\nTo view examples of installing some common dependencies, click the\n\"Open Examples\" button below.\n\u001b[0;31m---------------------------------------------------------------------------\u001b[0m\n"
          ]
        }
      ]
    },
    {
      "cell_type": "code",
      "metadata": {
        "id": "D0GgqteqVPAa",
        "colab_type": "code",
        "colab": {}
      },
      "source": [
        "all_df = pd.concat([all_df, JR_df])\n"
      ],
      "execution_count": null,
      "outputs": []
    },
    {
      "cell_type": "code",
      "metadata": {
        "id": "6BOfmOyfVQfP",
        "colab_type": "code",
        "colab": {}
      },
      "source": [
        "all_df[-2:]\n"
      ],
      "execution_count": null,
      "outputs": []
    },
    {
      "cell_type": "code",
      "metadata": {
        "id": "xgLRLRDfVJ7I",
        "colab_type": "code",
        "colab": {}
      },
      "source": [
        "all_Features, Label = PreprocessData(all_df)\n",
        "\n",
        "all_probability = model.predict(all_Features)"
      ],
      "execution_count": null,
      "outputs": []
    },
    {
      "cell_type": "code",
      "metadata": {
        "id": "3TZm9m2LVLxe",
        "colab_type": "code",
        "colab": {}
      },
      "source": [
        "all_probability[:10]"
      ],
      "execution_count": null,
      "outputs": []
    },
    {
      "cell_type": "code",
      "metadata": {
        "id": "ZQKfgRirUYRE",
        "colab_type": "code",
        "colab": {}
      },
      "source": [
        "pd = all_df\n"
      ],
      "execution_count": null,
      "outputs": []
    },
    {
      "cell_type": "code",
      "metadata": {
        "id": "01H7O24vTVAB",
        "colab_type": "code",
        "colab": {}
      },
      "source": [
        "pd[:-2]\n"
      ],
      "execution_count": null,
      "outputs": []
    }
  ]
}